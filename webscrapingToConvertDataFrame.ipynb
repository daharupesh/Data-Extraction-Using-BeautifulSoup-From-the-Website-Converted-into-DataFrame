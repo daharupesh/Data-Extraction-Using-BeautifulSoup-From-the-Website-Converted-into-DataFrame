{
 "cells": [
  {
   "cell_type": "code",
   "execution_count": 26,
   "metadata": {},
   "outputs": [],
   "source": [
    "import pandas as pd\n",
    "import requests\n",
    "from bs4 import BeautifulSoup"
   ]
  },
  {
   "cell_type": "code",
   "execution_count": 27,
   "metadata": {},
   "outputs": [],
   "source": [
    "headers={\n",
    "      'User-Agent': 'Mozilla/5.0 (Windows NT 6.3; Win64; x64)',\n",
    "    'Accept-Language': 'en-US,en;q=0.9',\n",
    "    'Connection': 'keep-alive'\n",
    "}\n",
    "\n",
    "webpage = requests.get('https://www.ambitionbox.com/list-of-companies?page=1',headers=headers).text"
   ]
  },
  {
   "cell_type": "code",
   "execution_count": 28,
   "metadata": {},
   "outputs": [],
   "source": [
    "soup = BeautifulSoup(webpage, 'html.parser')"
   ]
  },
  {
   "cell_type": "code",
   "execution_count": 32,
   "metadata": {},
   "outputs": [],
   "source": [
    "# soup.find_all('div',class_='companyCardWrapper')[0]"
   ]
  },
  {
   "cell_type": "code",
   "execution_count": 33,
   "metadata": {},
   "outputs": [],
   "source": [
    "company = soup.find_all('div',class_='companyCardWrapper')"
   ]
  },
  {
   "cell_type": "code",
   "execution_count": null,
   "metadata": {},
   "outputs": [],
   "source": []
  },
  {
   "cell_type": "code",
   "execution_count": 34,
   "metadata": {},
   "outputs": [
    {
     "data": {
      "text/plain": [
       "0"
      ]
     },
     "execution_count": 34,
     "metadata": {},
     "output_type": "execute_result"
    }
   ],
   "source": [
    "len(company)"
   ]
  },
  {
   "cell_type": "code",
   "execution_count": 35,
   "metadata": {},
   "outputs": [],
   "source": [
    "name=[]\n",
    "rating =[]\n",
    "reviews= []\n",
    "salaries =[]\n",
    "interviews =[]\n",
    "jobs=[]\n",
    "benefits=[]\n",
    "photos =[]\n",
    "description = []\n",
    "\n",
    "\n",
    "for i in company:\n",
    "    name.append(i.find('h2').text.strip())\n",
    "    rating.append(i.find('span',class_='companyCardWrapper__companyRatingValue').text.strip())\n",
    "    description.append(i.find('span', class_='companyCardWrapper__interLinking').text.strip())\n",
    "    for j in range(len(i.find_all('span',class_='companyCardWrapper__ActionCount'))):\n",
    "        if j==0:\n",
    "            reviews.append(i.find_all('span',class_='companyCardWrapper__ActionCount')[j].text.strip())\n",
    "        elif j ==1:\n",
    "            salaries.append(i.find_all('span',class_='companyCardWrapper__ActionCount')[j].text.strip())\n",
    "        elif j ==2:\n",
    "            interviews.append(i.find_all('span',class_='companyCardWrapper__ActionCount')[j].text.strip())\n",
    "        elif j ==3:\n",
    "            jobs.append(i.find_all('span',class_='companyCardWrapper__ActionCount')[j].text.strip())\n",
    "        elif j ==4:\n",
    "            benefits.append(i.find_all('span',class_='companyCardWrapper__ActionCount')[j].text.strip())\n",
    "        else:\n",
    "            photos.append(i.find_all('span',class_='companyCardWrapper__ActionCount')[j].text.strip())\n",
    "\n",
    "\n",
    "# print(name)\n",
    "# print(len(name))\n",
    "# print(rating)\n",
    "# print(len(rating))\n",
    "# print(reviews)\n",
    "# print(len(reviews))\n",
    "# print(salaries)\n",
    "# print(len(salaries))\n",
    "# print(interviews)\n",
    "# print(len(interviews))\n",
    "# print(jobs)\n",
    "# print(len(jobs))\n",
    "# print(description)\n",
    "# print(len(description))"
   ]
  },
  {
   "cell_type": "code",
   "execution_count": 39,
   "metadata": {},
   "outputs": [],
   "source": [
    "data_dict = {\n",
    "    'Company Name':name,\n",
    "    'description':description,\n",
    "    'Rating' : rating,\n",
    "    'Reviews' : reviews,\n",
    "    'Salaries' : salaries,\n",
    "    'Interviews':interviews,\n",
    "    'Jobs' : jobs,\n",
    "    'benefits':benefits,\n",
    "    'photos':photos\n",
    "}\n",
    "\n",
    "company_dataFrame = pd.DataFrame(data_dict)"
   ]
  },
  {
   "cell_type": "code",
   "execution_count": 40,
   "metadata": {},
   "outputs": [
    {
     "data": {
      "text/html": [
       "<div>\n",
       "<style scoped>\n",
       "    .dataframe tbody tr th:only-of-type {\n",
       "        vertical-align: middle;\n",
       "    }\n",
       "\n",
       "    .dataframe tbody tr th {\n",
       "        vertical-align: top;\n",
       "    }\n",
       "\n",
       "    .dataframe thead th {\n",
       "        text-align: right;\n",
       "    }\n",
       "</style>\n",
       "<table border=\"1\" class=\"dataframe\">\n",
       "  <thead>\n",
       "    <tr style=\"text-align: right;\">\n",
       "      <th></th>\n",
       "      <th>Company Name</th>\n",
       "      <th>description</th>\n",
       "      <th>Rating</th>\n",
       "      <th>Reviews</th>\n",
       "      <th>Salaries</th>\n",
       "      <th>Interviews</th>\n",
       "      <th>Jobs</th>\n",
       "      <th>benefits</th>\n",
       "      <th>photos</th>\n",
       "    </tr>\n",
       "  </thead>\n",
       "  <tbody>\n",
       "  </tbody>\n",
       "</table>\n",
       "</div>"
      ],
      "text/plain": [
       "Empty DataFrame\n",
       "Columns: [Company Name, description, Rating, Reviews, Salaries, Interviews, Jobs, benefits, photos]\n",
       "Index: []"
      ]
     },
     "execution_count": 40,
     "metadata": {},
     "output_type": "execute_result"
    }
   ],
   "source": [
    "company_dataFrame.head(5)"
   ]
  },
  {
   "cell_type": "code",
   "execution_count": 44,
   "metadata": {},
   "outputs": [],
   "source": []
  },
  {
   "cell_type": "code",
   "execution_count": 23,
   "metadata": {},
   "outputs": [],
   "source": [
    "'''name=[]\n",
    "rating =[]\n",
    "reviews= []\n",
    "salaries =[]\n",
    "interviews =[]\n",
    "jobs=[]\n",
    "benefits=[]\n",
    "photos =[]\n",
    "description = []\n",
    "\n",
    "for m in range(1,5):\n",
    "    headers={\n",
    "      'User-Agent': 'Mozilla/5.0 (Windows NT 6.3; Win64; x64)',\n",
    "    'Accept-Language': 'en-US,en;q=0.9',\n",
    "    'Connection': 'keep-alive'\n",
    "        }\n",
    "\n",
    "    webpage = requests.get('https://www.ambitionbox.com/list-of-companies?page={0}'.format(m),headers=headers).text\n",
    "\n",
    "    company = soup.find_all('div',class_='companyCardWrapper')\n",
    "   \n",
    "\n",
    "\n",
    "    for i in company:\n",
    "        name.append(i.find('h2').text.strip())\n",
    "        rating.append(i.find('span',class_='companyCardWrapper__companyRatingValue').text.strip())\n",
    "        description.append(i.find('span', class_='companyCardWrapper__interLinking').text.strip())\n",
    "        for j in range(len(i.find_all('span',class_='companyCardWrapper__ActionCount'))):\n",
    "            if j==0:\n",
    "                reviews.append(i.find_all('span',class_='companyCardWrapper__ActionCount')[j].text.strip())\n",
    "            elif j ==1:\n",
    "                salaries.append(i.find_all('span',class_='companyCardWrapper__ActionCount')[j].text.strip())\n",
    "            elif j ==2:\n",
    "                interviews.append(i.find_all('span',class_='companyCardWrapper__ActionCount')[j].text.strip())\n",
    "            elif j ==3:\n",
    "                jobs.append(i.find_all('span',class_='companyCardWrapper__ActionCount')[j].text.strip())\n",
    "            elif j ==4:\n",
    "                benefits.append(i.find_all('span',class_='companyCardWrapper__ActionCount')[j].text.strip())\n",
    "            else:\n",
    "                photos.append(i.find_all('span',class_='companyCardWrapper__ActionCount')[j].text.strip())\n",
    "    \n",
    "    \n",
    "\n",
    "    \n",
    "    \n",
    "data_dict = {\n",
    "    'Company Name':name,\n",
    "    'description':description,\n",
    "    'Rating' : rating,\n",
    "    'Reviews' : reviews,\n",
    "    'Salaries' : salaries,\n",
    "    'Interviews':interviews,\n",
    "    'Jobs' : jobs,\n",
    "    'benefits':benefits,\n",
    "    'photos':photos }\n",
    "                \n",
    "        \n",
    "complete_company_dataset = pd.DataFrame(data_dict)    \n",
    "complete_company_dataset   '''"
   ]
  },
  {
   "cell_type": "code",
   "execution_count": 24,
   "metadata": {},
   "outputs": [],
   "source": []
  },
  {
   "cell_type": "code",
   "execution_count": 25,
   "metadata": {},
   "outputs": [
    {
     "data": {
      "text/html": [
       "<div>\n",
       "<style scoped>\n",
       "    .dataframe tbody tr th:only-of-type {\n",
       "        vertical-align: middle;\n",
       "    }\n",
       "\n",
       "    .dataframe tbody tr th {\n",
       "        vertical-align: top;\n",
       "    }\n",
       "\n",
       "    .dataframe thead th {\n",
       "        text-align: right;\n",
       "    }\n",
       "</style>\n",
       "<table border=\"1\" class=\"dataframe\">\n",
       "  <thead>\n",
       "    <tr style=\"text-align: right;\">\n",
       "      <th></th>\n",
       "      <th>Company Name</th>\n",
       "      <th>description</th>\n",
       "      <th>Rating</th>\n",
       "      <th>Reviews</th>\n",
       "      <th>Salaries</th>\n",
       "      <th>Interviews</th>\n",
       "      <th>Jobs</th>\n",
       "      <th>benefits</th>\n",
       "      <th>photos</th>\n",
       "    </tr>\n",
       "  </thead>\n",
       "  <tbody>\n",
       "  </tbody>\n",
       "</table>\n",
       "</div>"
      ],
      "text/plain": [
       "Empty DataFrame\n",
       "Columns: [Company Name, description, Rating, Reviews, Salaries, Interviews, Jobs, benefits, photos]\n",
       "Index: []"
      ]
     },
     "execution_count": 25,
     "metadata": {},
     "output_type": "execute_result"
    }
   ],
   "source": []
  },
  {
   "cell_type": "code",
   "execution_count": null,
   "metadata": {},
   "outputs": [],
   "source": []
  }
 ],
 "metadata": {
  "kernelspec": {
   "display_name": "Python 3",
   "language": "python",
   "name": "python3"
  },
  "language_info": {
   "codemirror_mode": {
    "name": "ipython",
    "version": 3
   },
   "file_extension": ".py",
   "mimetype": "text/x-python",
   "name": "python",
   "nbconvert_exporter": "python",
   "pygments_lexer": "ipython3",
   "version": "3.11.0"
  }
 },
 "nbformat": 4,
 "nbformat_minor": 2
}
