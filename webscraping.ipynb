{
 "cells": [
  {
   "cell_type": "code",
   "execution_count": 29,
   "metadata": {},
   "outputs": [],
   "source": [
    "import pandas as pd\n",
    "import requests\n",
    "from bs4 import BeautifulSoup\n"
   ]
  },
  {
   "cell_type": "code",
   "execution_count": 30,
   "metadata": {},
   "outputs": [],
   "source": [
    "headers = {\n",
    "    'User-Agent': 'Mozilla/5.0 (Windows NT 6.3; Win64; x64)',\n",
    "    'Accept-Language': 'en-US,en;q=0.9',\n",
    "    'Connection': 'keep-alive'\n",
    "}\n",
    "\n",
    "webpage = requests.get('https://www.ambitionbox.com/list-of-companies?page=1',headers=headers).text"
   ]
  },
  {
   "cell_type": "code",
   "execution_count": null,
   "metadata": {},
   "outputs": [],
   "source": []
  },
  {
   "cell_type": "code",
   "execution_count": 31,
   "metadata": {},
   "outputs": [],
   "source": [
    "soup = BeautifulSoup(webpage,'lxml')"
   ]
  },
  {
   "cell_type": "code",
   "execution_count": 32,
   "metadata": {},
   "outputs": [
    {
     "data": {
      "text/plain": [
       "'List of companies in India'"
      ]
     },
     "execution_count": 32,
     "metadata": {},
     "output_type": "execute_result"
    }
   ],
   "source": [
    "soup.find_all('h1')[0].text.strip()"
   ]
  },
  {
   "cell_type": "code",
   "execution_count": 33,
   "metadata": {},
   "outputs": [
    {
     "data": {
      "text/plain": [
       "24"
      ]
     },
     "execution_count": 33,
     "metadata": {},
     "output_type": "execute_result"
    }
   ],
   "source": [
    "len(soup.find_all('h2'))"
   ]
  },
  {
   "cell_type": "code",
   "execution_count": 34,
   "metadata": {},
   "outputs": [
    {
     "name": "stdout",
     "output_type": "stream",
     "text": [
      "TCS\n",
      "Accenture\n",
      "Cognizant\n",
      "Wipro\n",
      "Capgemini\n",
      "HDFC Bank\n",
      "ICICI Bank\n",
      "Infosys\n",
      "HCLTech\n",
      "Tech Mahindra\n",
      "Genpact\n",
      "Teleperformance\n",
      "Axis Bank\n",
      "Amazon\n",
      "Concentrix Corporation\n",
      "Jio\n",
      "IBM\n",
      "Reliance Retail\n",
      "HDB Financial Services\n",
      "iEnergizer\n",
      "Companies by  Industry\n",
      "Companies by  Locations\n",
      "Companies by  Type\n",
      "Companies by  Badges\n"
     ]
    }
   ],
   "source": [
    "for i in soup.find_all('h2'):\n",
    "    print(i.text.strip())"
   ]
  },
  {
   "cell_type": "code",
   "execution_count": 39,
   "metadata": {},
   "outputs": [
    {
     "data": {
      "text/plain": [
       "20"
      ]
     },
     "execution_count": 39,
     "metadata": {},
     "output_type": "execute_result"
    }
   ],
   "source": [
    "len(soup.find_all('span',class_='companyCardWrapper__companyRatingValue'))"
   ]
  },
  {
   "cell_type": "code",
   "execution_count": 41,
   "metadata": {},
   "outputs": [
    {
     "name": "stdout",
     "output_type": "stream",
     "text": [
      "3.8\n",
      "4.0\n",
      "3.9\n",
      "3.8\n",
      "3.8\n",
      "3.9\n",
      "4.0\n",
      "3.8\n",
      "3.6\n",
      "3.6\n",
      "3.9\n",
      "3.8\n",
      "3.8\n",
      "4.1\n",
      "3.9\n",
      "3.9\n",
      "4.1\n",
      "3.9\n",
      "4.0\n",
      "4.7\n"
     ]
    }
   ],
   "source": [
    "for i in soup.find_all('span',class_='companyCardWrapper__companyRatingValue'):\n",
    "    print(i.text.strip())"
   ]
  },
  {
   "cell_type": "code",
   "execution_count": 44,
   "metadata": {},
   "outputs": [
    {
     "data": {
      "text/plain": [
       "120"
      ]
     },
     "execution_count": 44,
     "metadata": {},
     "output_type": "execute_result"
    }
   ],
   "source": [
    "len(soup.find_all('span', class_='companyCardWrapper__ActionCount'))"
   ]
  },
  {
   "cell_type": "code",
   "execution_count": 45,
   "metadata": {},
   "outputs": [
    {
     "name": "stdout",
     "output_type": "stream",
     "text": [
      "79.6k\n",
      "8.8L\n",
      "9k\n",
      "869\n",
      "11.7k\n",
      "80\n",
      "49.6k\n",
      "5.9L\n",
      "6.7k\n",
      "34.8k\n",
      "7.2k\n",
      "38\n",
      "44.9k\n",
      "5.8L\n",
      "4.9k\n",
      "402\n",
      "5.9k\n",
      "65\n",
      "42.7k\n",
      "4.4L\n",
      "4.8k\n",
      "151\n",
      "5.1k\n",
      "83\n",
      "36.7k\n",
      "4.4L\n",
      "4.1k\n",
      "1.6k\n",
      "4.1k\n",
      "42\n",
      "35.7k\n",
      "1.4L\n",
      "1.9k\n",
      "174\n",
      "3.3k\n",
      "17\n",
      "35.1k\n",
      "1.5L\n",
      "2.3k\n",
      "46\n",
      "3.8k\n",
      "47\n",
      "34.5k\n",
      "4.8L\n",
      "6.6k\n",
      "1.1k\n",
      "5.3k\n",
      "105\n",
      "31.7k\n",
      "3.2L\n",
      "3.3k\n",
      "180\n",
      "4.2k\n",
      "46\n",
      "31.7k\n",
      "2.7L\n",
      "3.4k\n",
      "543\n",
      "3.7k\n",
      "54\n",
      "28.4k\n",
      "2L\n",
      "2.7k\n",
      "350\n",
      "3.8k\n",
      "44\n",
      "24.8k\n",
      "87.9k\n",
      "1.6k\n",
      "191\n",
      "2.1k\n",
      "26\n",
      "23.1k\n",
      "98.2k\n",
      "1.4k\n",
      "93\n",
      "2.2k\n",
      "71\n",
      "23k\n",
      "1.3L\n",
      "4.5k\n",
      "148\n",
      "4.3k\n",
      "74\n",
      "23k\n",
      "1.1L\n",
      "1.4k\n",
      "55\n",
      "3.3k\n",
      "43\n",
      "20.9k\n",
      "65.4k\n",
      "1.5k\n",
      "108\n",
      "2.6k\n",
      "51\n",
      "20.4k\n",
      "2.2L\n",
      "2.1k\n",
      "2.4k\n",
      "2.8k\n",
      "23\n",
      "20.2k\n",
      "63.8k\n",
      "1.4k\n",
      "147\n",
      "2k\n",
      "95\n",
      "18.6k\n",
      "50.2k\n",
      "724\n",
      "115\n",
      "1.6k\n",
      "33\n",
      "17.9k\n",
      "19.9k\n",
      "414\n",
      "46\n",
      "548\n",
      "20\n"
     ]
    }
   ],
   "source": [
    "for i in soup.find_all('span', class_='companyCardWrapper__ActionCount'):\n",
    "    print(i.text.strip())"
   ]
  },
  {
   "cell_type": "code",
   "execution_count": null,
   "metadata": {},
   "outputs": [],
   "source": []
  }
 ],
 "metadata": {
  "kernelspec": {
   "display_name": "Python 3",
   "language": "python",
   "name": "python3"
  },
  "language_info": {
   "codemirror_mode": {
    "name": "ipython",
    "version": 3
   },
   "file_extension": ".py",
   "mimetype": "text/x-python",
   "name": "python",
   "nbconvert_exporter": "python",
   "pygments_lexer": "ipython3",
   "version": "3.11.0"
  }
 },
 "nbformat": 4,
 "nbformat_minor": 2
}
